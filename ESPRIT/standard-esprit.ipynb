{
 "cells": [
  {
   "cell_type": "markdown",
   "metadata": {},
   "source": [
    "# Standard ESPRIT"
   ]
  },
  {
   "cell_type": "raw",
   "metadata": {},
   "source": [
    "Question: what is the resolution limit of ESPRIT\n",
    "    "
   ]
  },
  {
   "cell_type": "markdown",
   "metadata": {},
   "source": [
    "ESPRIT stands for **E**stimation of **S**ignal **P**arameters via **R**otational **I**nvariance **T**echnique and is an algorithm used for parameter estimation. It is attractive because it is high-resolution but also simple and faster than lots of similar algorithms. I the case of ESPRIT no non-linear optimization is rquired. We assume that we are facing a DoA problem in this notebook, but the same principle applies even easier to harmonic retrieval problem. The requirement of ESPRIT algorithm is a special array geometry. The array has __M__ sensor elements which are composed of __m__ pairwise identical but displaces sensors (so called doublets). As results we have two subarrays, which my or may net share elements, but are pairwise identical and equi-distance. Propagation between two identical sensors displaced by $\\Delta$ can be calculated as:\n",
    "\n",
    "<center> $\\tau_i = \\frac{\\Delta sin \\theta_i}{c}$<\\center>\n",
    "    \n",
    "where the $\\theta_i$ is the direction of arrival of the i-th wavefront and $c$ is the constant wave propagation speed in the matter."
   ]
  },
  {
   "cell_type": "code",
   "execution_count": 10,
   "metadata": {},
   "outputs": [],
   "source": [
    "import numpy as np\n",
    "\n",
    "from lib import *"
   ]
  },
  {
   "cell_type": "markdown",
   "metadata": {},
   "source": [
    "Using the data model developed in __data-model.ipynb__ we can synthesize the received signal of the array divided into two subarrays. The i-th signal at the reference sensor of the first subarray is :\n",
    "\n",
    "$s_i(t)$\n",
    "\n",
    "For the second subarray the same signal is received with a delay $\\tau_i$. The delay can be calculated wrt. the DoA of the impinging wavefront as folowing:\n",
    "\n",
    "$s_t(t-\\tau_i) = s_i(t)e^{-j2\\pi f_c\\tau_i} = s_i(t)e^{j\\mu_i}; \\mu_i = -\\frac{2\\pi}{\\lambda}\\Delta sin \\theta_i$ &nbsp;&nbsp;&nbsp;&nbsp;&nbsp; __(1)__\n",
    "\n",
    "The goal of the parameter estimation problem is to estimate the $\\mu_i$ for each wavefront from a received data. "
   ]
  },
  {
   "cell_type": "markdown",
   "metadata": {},
   "source": [
    "## Selection Matrices"
   ]
  },
  {
   "cell_type": "markdown",
   "metadata": {},
   "source": [
    "As we have two subarrays now, the array steering matrix for each subarray wrt. the impinging wavefronts differ from the steering matrix of the whole array. For each subarray the steering matrix consists of the steering vectors of the wavefronts for the sensor elements of subarray only. For example if __M = 8__ and __m = 4__ (i.e. we have no overlapping elements) the steering vector of the first subarray is of size __4 x 1__ and consists of the steering characteristics of elements of the first subarray and like-wise for the steering elements of the second subarray too.\n",
    "\n",
    "In order to be able to get the steering vector of subarrays separate from each other, we define two selection matrices $J_1 \\in \\mathbf{C}^{m \\times M}$ and $J_2 \\in \\mathbf{C}^{m \\times M}$ (one for each subarray) that extract the sensor elements from the steering vector of the whole array. For a given steering matrix $\\mathbf{A}$ the steering vector of the first subarray would be $ \\mathbf{A}^{(1)} = J_1 \\cdot \\mathbf{A}$ and of the second subarray $ \\mathbf{A}^{()} = J_2 \\cdot \\mathbf{A}$. As defined in __(1)__ we can derive the relationship between the steering vector of the both subarrays as:\n",
    "\n",
    "\n"
   ]
  },
  {
   "cell_type": "code",
   "execution_count": 12,
   "metadata": {},
   "outputs": [],
   "source": [
    "## The Received Data"
   ]
  },
  {
   "cell_type": "code",
   "execution_count": 13,
   "metadata": {},
   "outputs": [],
   "source": [
    "## Estimation of Signal subspace"
   ]
  },
  {
   "cell_type": "code",
   "execution_count": 14,
   "metadata": {},
   "outputs": [],
   "source": [
    "## Least Square Solutions"
   ]
  },
  {
   "cell_type": "code",
   "execution_count": 15,
   "metadata": {},
   "outputs": [],
   "source": [
    "## Spatial Smoothing"
   ]
  },
  {
   "cell_type": "code",
   "execution_count": 16,
   "metadata": {},
   "outputs": [],
   "source": [
    "## Forward backward averaging"
   ]
  },
  {
   "cell_type": "code",
   "execution_count": 17,
   "metadata": {},
   "outputs": [],
   "source": [
    "## Real-Valued ESPRIT Estimation"
   ]
  },
  {
   "cell_type": "code",
   "execution_count": null,
   "metadata": {},
   "outputs": [],
   "source": []
  }
 ],
 "metadata": {
  "kernelspec": {
   "display_name": "Python 3",
   "language": "python",
   "name": "python3"
  },
  "language_info": {
   "codemirror_mode": {
    "name": "ipython",
    "version": 3
   },
   "file_extension": ".py",
   "mimetype": "text/x-python",
   "name": "python",
   "nbconvert_exporter": "python",
   "pygments_lexer": "ipython3",
   "version": "3.8.3"
  }
 },
 "nbformat": 4,
 "nbformat_minor": 4
}
